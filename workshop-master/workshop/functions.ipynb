{
 "cells": [
  {
   "cell_type": "markdown",
   "metadata": {},
   "source": [
    "# FUNCTIONS"
   ]
  },
  {
   "cell_type": "markdown",
   "metadata": {},
   "source": [
    "### 1. Default arguments:"
   ]
  },
  {
   "cell_type": "markdown",
   "metadata": {},
   "source": [
    "- **Function definition**\n",
    "```python\n",
    "def defaultArg( name, msg = \"Hello!\"):```\n",
    "- **Function call**\n",
    "```python\n",
    "defaultArg( name)```"
   ]
  },
  {
   "cell_type": "code",
   "execution_count": 4,
   "metadata": {},
   "outputs": [
    {
     "name": "stdout",
     "output_type": "stream",
     "text": [
      "code : python\n",
      "description : is fun\n"
     ]
    }
   ],
   "source": [
    "def function(code,name=\"is fun\"):# argument 1,argument 2 with value\n",
    "    print(\"code :\",code)\n",
    "    print(\"description :\",name)\n",
    "function(\"python\")# passing value of argument 1"
   ]
  },
  {
   "cell_type": "markdown",
   "metadata": {},
   "source": [
    "### 2. Required arguments:\n",
    "\n",
    "- **Function definition**\n",
    "```python\n",
    "def requiredArg (str,num):```\n",
    "- **Function call**\n",
    "```python\n",
    "requiredArg (\"Hello\",12)```\n"
   ]
  },
  {
   "cell_type": "code",
   "execution_count": 5,
   "metadata": {},
   "outputs": [
    {
     "name": "stdout",
     "output_type": "stream",
     "text": [
      "club : technojam\n",
      "years 2\n"
     ]
    }
   ],
   "source": [
    "def function(club,years):\n",
    "    print(\"club :\",club)\n",
    "    print(\"years\",years)\n",
    "\n",
    "function(\"technojam\",2)"
   ]
  },
  {
   "cell_type": "code",
   "execution_count": 6,
   "metadata": {},
   "outputs": [
    {
     "name": "stdout",
     "output_type": "stream",
     "text": [
      "club : 2\n",
      "years ttechnojam\n"
     ]
    }
   ],
   "source": [
    "function(2,\"technojam\")"
   ]
  },
  {
   "cell_type": "markdown",
   "metadata": {},
   "source": [
    "### 3. Keyword arguments:\n",
    "- **Function definition**\n",
    "```python\n",
    "def keywordArg( name, role ):```\n",
    "- **Function call**\n",
    "```python\n",
    "keywordArg( name = \"Tom\", role = \"Manager\")```\n",
    "***or***\n",
    "```python\n",
    "keywordArg( role = \"Manager\", name = \"Tom\")```\n"
   ]
  },
  {
   "cell_type": "code",
   "execution_count": 7,
   "metadata": {},
   "outputs": [
    {
     "name": "stdout",
     "output_type": "stream",
     "text": [
      "name : technojam\n",
      "year : 2\n",
      "name : technojam\n",
      "year : 2\n"
     ]
    }
   ],
   "source": [
    "def function(name,year):\n",
    "    print(\"name :\",name)\n",
    "    print(\"year :\",year)\n",
    "    \n",
    "function(name=\"technojam\",year=2)\n",
    "function(year=2,name=\"technojam\")"
   ]
  },
  {
   "cell_type": "markdown",
   "metadata": {},
   "source": [
    "## 4. Variable number of arguments:\n",
    "- **Function definition**\n",
    "```python\n",
    "def varlengthArgs(*varargs):```\n",
    "- **Function call**\n",
    "```python\n",
    "varlengthArgs(30,40,50,60)```"
   ]
  },
  {
   "cell_type": "code",
   "execution_count": 11,
   "metadata": {},
   "outputs": [
    {
     "name": "stdout",
     "output_type": "stream",
     "text": [
      "cities are :\n",
      "delhi\n",
      "patna\n",
      "kolkata\n",
      "mumbai\n",
      "('delhi', 'patna', 'kolkata', 'mumbai')\n"
     ]
    }
   ],
   "source": [
    "def function(*cities):\n",
    "    print(\"cities are :\")\n",
    "    for city in cities:\n",
    "        print(city)\n",
    "    print(cities)\n",
    "    \n",
    "function(\"delhi\",\"patna\",\"kolkata\",\"mumbai\")"
   ]
  },
  {
   "cell_type": "code",
   "execution_count": null,
   "metadata": {},
   "outputs": [],
   "source": []
  }
 ],
 "metadata": {
  "kernelspec": {
   "display_name": "Python 3",
   "language": "python",
   "name": "python3"
  },
  "language_info": {
   "codemirror_mode": {
    "name": "ipython",
    "version": 3
   },
   "file_extension": ".py",
   "mimetype": "text/x-python",
   "name": "python",
   "nbconvert_exporter": "python",
   "pygments_lexer": "ipython3",
   "version": "3.6.4"
  }
 },
 "nbformat": 4,
 "nbformat_minor": 2
}
