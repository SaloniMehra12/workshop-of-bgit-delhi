{
 "cells": [
  {
   "cell_type": "markdown",
   "metadata": {},
   "source": [
    "# Working with csv files in Python\n",
    "*This article explains how to load and parse a CSV file in Python.*\n",
    "\n",
    "## First of all, what is a CSV ?\n",
    "**CSV (Comma Separated Values) is a simple file format used to store tabular data, such as a spreadsheet or database. A CSV file stores tabular data (numbers and text) in plain text. Each line of the file is a data record. Each record consists of one or more fields, separated by commas. The use of the comma as a field separator is the source of the name for this file format.**\n",
    "\n",
    "For working CSV files in python, there is an inbuilt ***module*** called ***csv.***"
   ]
  },
  {
   "cell_type": "markdown",
   "metadata": {},
   "source": [
    "## Open ( ) Function\n",
    "**file_object  = open(“filename”, “mode”) **where **file_object** is the variable to add the file object. "
   ]
  },
  {
   "cell_type": "markdown",
   "metadata": {},
   "source": [
    "## Mode\n",
    " - **'r’** – Read mode which is used when the file is only being read \n",
    " - **‘w’** – Write mode which is used to edit and write new information to the file (any existing files with the same name will be erased when this mode is activated) \n",
    " - **‘a’** – Appending mode, which is used to add new data to the end of the file; that is new information is automatically amended to the end \n",
    " - **‘r+’** – Special read and write mode, which is used to handle both actions when working with a file \n",
    " \n",
    " **F = open(“workfile”,”w”) \n",
    " Print f**"
   ]
  },
  {
   "cell_type": "markdown",
   "metadata": {},
   "source": [
    "## Create a text file\n",
    "\n",
    "- **file = open(“testfile.txt”,”w”)** \n",
    "- **file.write(“Hello World”)** \n",
    "- **file.write(“This is our new text file”)** \n",
    "- **file.write(“and this is another line.”)** \n",
    "- **file.write(“Why? Because we can.”)**\n",
    " \n",
    "- **file.close()**"
   ]
  },
  {
   "cell_type": "markdown",
   "metadata": {},
   "source": [
    "## Reading a Text File in Python\n",
    "\n",
    "- **file.read()**\n",
    "#### or\n",
    "**file = open(“testfile.text”, “r”)** \n",
    "\n",
    " **print file.read()** \n",
    "#### or\n",
    "**file = open(“testfile.txt”, “r”)**\n",
    "\n",
    "**print file.readlines()**\n"
   ]
  },
  {
   "cell_type": "code",
   "execution_count": null,
   "metadata": {},
   "outputs": [],
   "source": []
  }
 ],
 "metadata": {
  "kernelspec": {
   "display_name": "Python 3",
   "language": "python",
   "name": "python3"
  },
  "language_info": {
   "codemirror_mode": {
    "name": "ipython",
    "version": 3
   },
   "file_extension": ".py",
   "mimetype": "text/x-python",
   "name": "python",
   "nbconvert_exporter": "python",
   "pygments_lexer": "ipython3",
   "version": "3.6.4"
  }
 },
 "nbformat": 4,
 "nbformat_minor": 2
}
