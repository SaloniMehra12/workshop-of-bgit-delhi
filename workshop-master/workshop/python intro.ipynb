{
 "cells": [
  {
   "cell_type": "markdown",
   "metadata": {},
   "source": [
    "# _PYTHON_\n"
   ]
  },
  {
   "cell_type": "markdown",
   "metadata": {},
   "source": [
    "## What Makes Python Special?"
   ]
  },
  {
   "cell_type": "markdown",
   "metadata": {},
   "source": [
    "1. ### Python Has a Healthy, Active and Supportive Community\n",
    "2. ### Python Has Big Data\n",
    "3. ### Python Has Some Great Corporate Sponsors\n",
    "4. ### Python Has Amazing Libraries\n",
    "5. ### Python Is Reliable and Efficient\n",
    "6. ### Python Is Accessible\n"
   ]
  },
  {
   "cell_type": "markdown",
   "metadata": {},
   "source": [
    "## RESONS TO LEARN PYTHON\n",
    "- ### DYNAMIC TYPE CASTING\n",
    "no type when declariing a varible\n",
    "skip headaches of  type casting\n",
    "### Other Language: \n",
    "                int x=1;\n",
    "                x=(int)x/2;  x now equals 0\n",
    "                                x can never be equal to 0.5\n",
    "### python: \n",
    "        x=1\n",
    "        x=x/2                   x now equals to 0.5\n",
    "        {automatcally assign desired type}\n",
    "- ## SIMPLE SYNTAX\n",
    "**Some proramming langages may kill you with parentheses,brackets,braces,commas and colons.**\n",
    "**with python you spend less ime debugging syntax and more time programming**\n",
    "\n",
    "- ## ONE-LINERS\n",
    "**Elegant 1-line solutions to what takes a whole block of code in therlanguages.\n",
    "one example:swap x and y**\n",
    "\n",
    "#### other language: \n",
    "```javascript\n",
    "int x=5,y=23,temp=x\n",
    ";\n",
    "x=y;\n",
    "y=temp;```\n",
    "\n",
    "#### PYTHON:\n",
    "```python\n",
    "X,Y=Y,X```\n",
    "\n",
    "{**REALLY! IS IT THAT SIMPLE** }\n",
    "\n",
    "***PYTHONIC!***\n",
    "\n",
    "- ## ENGLISH-LIKE COMMANDS\n",
    "\n",
    "**JAVA:**\n",
    "```java\n",
    "String name=\"bob\";\n",
    "System.out.println(name);\n",
    "```\n",
    "**PYTHON:**\n",
    "```python\n",
    "name=\"bob\"\n",
    "print(name)```\n",
    "\n",
    "- ## INTUITIVE DATA STRUCTURES\n",
    " - **list,Tuples,Sets,Dictionaries**\n",
    " - **Powerful,yet simple and intuitive to use**\n",
    " - **Flexible(mixed data types)**\n",
    "   \n"
   ]
  },
  {
   "cell_type": "markdown",
   "metadata": {},
   "source": [
    "\n"
   ]
  },
  {
   "cell_type": "markdown",
   "metadata": {},
   "source": []
  }
 ],
 "metadata": {
  "kernelspec": {
   "display_name": "Python 3",
   "language": "python",
   "name": "python3"
  },
  "language_info": {
   "codemirror_mode": {
    "name": "ipython",
    "version": 3
   },
   "file_extension": ".py",
   "mimetype": "text/x-python",
   "name": "python",
   "nbconvert_exporter": "python",
   "pygments_lexer": "ipython3",
   "version": "3.6.4"
  }
 },
 "nbformat": 4,
 "nbformat_minor": 2
}
