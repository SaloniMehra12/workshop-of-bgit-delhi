{
 "cells": [
  {
   "cell_type": "raw",
   "metadata": {},
   "source": [
    "Python Arithmetic Operators\n",
    "Assume variable a holds 10 and variable b holds 20, then −\n",
    "\n",
    "[ Show Example ]\n",
    "\n",
    "Operator    \tDescription                                         \tExample\n",
    "+ Addition    \tAdds values on either side of the operator.         \ta + b = 30\n",
    "- Subtraction \tSubtracts right hand operand from left hand operand.\ta – b = -10\n",
    "* Multiplication\tMultiplies values on either side of the operator\ta * b = 200\n",
    "/  Division    \tDivides left hand operand by right hand operand     \tb / a = 2\n",
    "% Modulus     \tDivides left hand operand by right hand operand and \n",
    "                returns remainder                                   \tb % a = 0\n",
    "**Exponent    \tPerforms exponential (power) calculation on operators\ta**b =10 to the power 20\n",
    "//Floor Division- The division of operands where the result is the \n",
    "                 quotient in which the digits after the decimal point\n",
    "                are removed. But if one of the operands is negative, \n",
    "                the result is floored, i.e., rounded away from zero \n",
    "                (towards negative infinity)                         −\t9//2 = 4 and 9.0//2.0 = 4.0,\n",
    "                                                                        -11//3 = -4, -11.0//3 = -4.0\n"
   ]
  },
  {
   "cell_type": "markdown",
   "metadata": {},
   "source": []
  },
  {
   "cell_type": "code",
   "execution_count": null,
   "metadata": {},
   "outputs": [],
   "source": []
  },
  {
   "cell_type": "code",
   "execution_count": null,
   "metadata": {},
   "outputs": [],
   "source": []
  }
 ],
 "metadata": {
  "kernelspec": {
   "display_name": "Python 3",
   "language": "python",
   "name": "python3"
  },
  "language_info": {
   "codemirror_mode": {
    "name": "ipython",
    "version": 3
   },
   "file_extension": ".py",
   "mimetype": "text/x-python",
   "name": "python",
   "nbconvert_exporter": "python",
   "pygments_lexer": "ipython3",
   "version": "3.6.4"
  }
 },
 "nbformat": 4,
 "nbformat_minor": 2
}
