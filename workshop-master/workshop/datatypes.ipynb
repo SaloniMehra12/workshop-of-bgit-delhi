{
 "cells": [
  {
   "cell_type": "markdown",
   "metadata": {},
   "source": [
    "1. **int(a,base)** : This function converts any data type to integer. ‘Base’ specifies the base in which string is if data type is string.\n",
    "\n",
    "\n",
    "2. **float()** : This function is used to convert any data type to a floating point number"
   ]
  },
  {
   "cell_type": "code",
   "execution_count": 5,
   "metadata": {},
   "outputs": [
    {
     "name": "stdout",
     "output_type": "stream",
     "text": [
      "After converting to integer base 2 : 18\n",
      "After converting to integer base 10 : 10010\n",
      "After converting to float : 10010.0\n"
     ]
    }
   ],
   "source": [
    "# Python code to demonstrate Type conversion \n",
    "# of string\n",
    "# using int(), float() \n",
    "  \n",
    "# initializing string \n",
    "s = \"10010\"\n",
    "  \n",
    "# printing string converting to int base 2 \n",
    "c = int(s,2) \n",
    "print (\"After converting to integer base 2 : \", end=\"\") \n",
    "print (c) \n",
    "\n",
    "# printing string converting to int base 10\n",
    "d = int(s,) \n",
    "print (\"After converting to integer base 10 : \", end=\"\") \n",
    "print (d) \n",
    "  \n",
    "# printing string converting to float \n",
    "e = float(s) \n",
    "print (\"After converting to float : \", end=\"\") \n",
    "print (e) "
   ]
  },
  {
   "cell_type": "markdown",
   "metadata": {},
   "source": [
    "3. **ord()** : This function is used to convert a character to integer.\n",
    "\n",
    "\n",
    "4. **hex()** : This function is to convert integer to hexadecimal string.\n",
    "\n",
    "\n",
    "5. **oct()** : This function is to convert integer to octal string."
   ]
  },
  {
   "cell_type": "code",
   "execution_count": 11,
   "metadata": {},
   "outputs": [
    {
     "name": "stdout",
     "output_type": "stream",
     "text": [
      "After converting character to integer : 65\n",
      "After converting character to integer : 97\n",
      "After converting 56 to hexadecimal string : 0x38\n",
      "After converting 56 to octal string : 0o70\n"
     ]
    }
   ],
   "source": [
    "# Python code to demonstrate Type conversion \n",
    "# using  ord(), hex(), oct() \n",
    "  \n",
    "# initializing integer \n",
    "number = 56\n",
    "#intializing character\n",
    "character1 ='A'\n",
    "character2 ='a'\n",
    "  \n",
    "# printing character converting to integer (its ASCII code)\n",
    "\"\"\"ASCII (American Standard Code for Information Interchange) is the most common format for text files\n",
    "in computers and on the Internet. In an ASCII file, each alphabetic, numeric, or special character\n",
    "is represented with a 7-bit binary number (a string of seven 0s or 1s).\"\"\"\n",
    "c = ord(character1) \n",
    "d = ord(character2)\n",
    "print (\"After converting character to integer : \",end=\"\") \n",
    "print (c) \n",
    "print (\"After converting character to integer : \",end=\"\") \n",
    "print (d)\n",
    "\n",
    "  \n",
    "# printing integer converting to hexadecimal string \n",
    "c = hex(number) \n",
    "print (\"After converting 56 to hexadecimal string : \",end=\"\") \n",
    "print (c) \n",
    "  \n",
    "# printing integer converting to octal string \n",
    "c = oct(number) \n",
    "print (\"After converting 56 to octal string : \",end=\"\") \n",
    "print (c) "
   ]
  },
  {
   "cell_type": "markdown",
   "metadata": {},
   "source": [
    "6. **tuple()** : This function is used to convert to a tuple.\n",
    "\n",
    "\n",
    "7. **set()** : This function returns the type after converting to set.\n",
    "\n",
    "\n",
    "8. **list()** : This function is used to convert any data type to a list type."
   ]
  },
  {
   "cell_type": "code",
   "execution_count": 12,
   "metadata": {},
   "outputs": [
    {
     "name": "stdout",
     "output_type": "stream",
     "text": [
      "After converting string to tuple : ('t', 'e', 'c', 'h', 'n', 'o', 'j', 'a', 'm')\n",
      "After converting string to set : {'n', 'h', 'a', 't', 'c', 'm', 'e', 'j', 'o'}\n",
      "After converting string to list : ['t', 'e', 'c', 'h', 'n', 'o', 'j', 'a', 'm']\n"
     ]
    }
   ],
   "source": [
    "# Python code to demonstrate Type conversion \n",
    "# using  tuple(), set(), list() \n",
    "  \n",
    "# initializing string \n",
    "s = 'technojam'\n",
    "  \n",
    "# printing string converting to tuple \n",
    "c = tuple(s) \n",
    "print (\"After converting string to tuple : \",end=\"\") \n",
    "print (c) \n",
    "  \n",
    "# printing string converting to set \n",
    "c = set(s) \n",
    "print (\"After converting string to set : \",end=\"\") \n",
    "print (c) \n",
    "  \n",
    "# printing string converting to list \n",
    "c = list(s) \n",
    "print (\"After converting string to list : \",end=\"\") \n",
    "print (c) "
   ]
  },
  {
   "cell_type": "markdown",
   "metadata": {},
   "source": [
    "9. **dict()** : This function is used to convert a tuple of order (key,value) into a dictionary.\n",
    "\n",
    "\n",
    "10. **str()** : Used to convert integer into a string.\n",
    "\n",
    "\n",
    "11. **complex(real,imag)** : This function converts real numbers to complex(real,imag) number."
   ]
  },
  {
   "cell_type": "code",
   "execution_count": 15,
   "metadata": {},
   "outputs": [
    {
     "name": "stdout",
     "output_type": "stream",
     "text": [
      "After converting integer to complex number : (1+2j)\n",
      "After converting integer to string : 1\n",
      "After converting tuple to dictionary : {'t': 1, 'e': 2, 'c': 3, 'h': 4, 'n': 5, 'o': 6, 'j': 7, 'a': 8, 'm': 9}\n"
     ]
    }
   ],
   "source": [
    "# Python code to demonstrate Type conversion \n",
    "# using  dict(), complex(), str() \n",
    "  \n",
    "# initializing integers \n",
    "a = 1\n",
    "b = 2\n",
    "  \n",
    "# initializing tuple \n",
    "tup = (('t', 1) ,('e', 2), ('c', 3),('h',4),('n',5),('o',6),('j',7),('a',8),('m',9)) \n",
    "  \n",
    "# printing integer converting to complex number \n",
    "c = complex(1,2) \n",
    "print (\"After converting integer to complex number : \",end=\"\") \n",
    "print (c) \n",
    "  \n",
    "# printing integer converting to string \n",
    "c = str(a) \n",
    "print (\"After converting integer to string : \",end=\"\") \n",
    "print (c) \n",
    "  \n",
    "# printing tuple converting to expression dictionary \n",
    "c = dict(tup) \n",
    "print (\"After converting tuple to dictionary : \",end=\"\") \n",
    "print(c)"
   ]
  },
  {
   "cell_type": "code",
   "execution_count": null,
   "metadata": {},
   "outputs": [],
   "source": []
  }
 ],
 "metadata": {
  "kernelspec": {
   "display_name": "Python 3",
   "language": "python",
   "name": "python3"
  },
  "language_info": {
   "codemirror_mode": {
    "name": "ipython",
    "version": 3
   },
   "file_extension": ".py",
   "mimetype": "text/x-python",
   "name": "python",
   "nbconvert_exporter": "python",
   "pygments_lexer": "ipython3",
   "version": "3.6.4"
  }
 },
 "nbformat": 4,
 "nbformat_minor": 2
}
