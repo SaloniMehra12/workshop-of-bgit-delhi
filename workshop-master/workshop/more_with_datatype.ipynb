{
 "cells": [
  {
   "cell_type": "markdown",
   "metadata": {},
   "source": [
    "## MORE ON DATATYPES"
   ]
  },
  {
   "cell_type": "markdown",
   "metadata": {},
   "source": [
    "1. ## DICTIONARY (build-in functions and methods)"
   ]
  },
  {
   "cell_type": "code",
   "execution_count": 4,
   "metadata": {},
   "outputs": [
    {
     "name": "stdout",
     "output_type": "stream",
     "text": [
      "dict['Name']:  technojam\n"
     ]
    }
   ],
   "source": [
    "dict = {'Name': 'technojam', 'Age': 7}\n",
    "print (\"dict['Name']: \", dict['Name']) #printing key value of name in dict"
   ]
  },
  {
   "cell_type": "code",
   "execution_count": 6,
   "metadata": {},
   "outputs": [
    {
     "data": {
      "text/plain": [
       "2"
      ]
     },
     "execution_count": 6,
     "metadata": {},
     "output_type": "execute_result"
    }
   ],
   "source": [
    "\"\"\"Gives the total length of the dictionary. \n",
    "This would be equal to the number of items in the dictionary.\"\"\"\n",
    "len(dict) #prints no.of item present "
   ]
  },
  {
   "cell_type": "code",
   "execution_count": 7,
   "metadata": {},
   "outputs": [
    {
     "data": {
      "text/plain": [
       "\"{'Name': 'technojam', 'Age': 7}\""
      ]
     },
     "execution_count": 7,
     "metadata": {},
     "output_type": "execute_result"
    }
   ],
   "source": [
    "\"\"\"Produces a printable string representation of a dictionary\n",
    "\"\"\"\n",
    "str(dict)#prints dict in string format"
   ]
  },
  {
   "cell_type": "code",
   "execution_count": 35,
   "metadata": {},
   "outputs": [
    {
     "data": {
      "text/plain": [
       "dict"
      ]
     },
     "execution_count": 35,
     "metadata": {},
     "output_type": "execute_result"
    }
   ],
   "source": [
    "\"\"\"Returns the type of the passed variable. If passed variable is dictionary, \n",
    "then it would return a dictionary type.\"\"\"\n",
    "type(dict)#prints the type of data we passed in it"
   ]
  },
  {
   "cell_type": "code",
   "execution_count": 22,
   "metadata": {},
   "outputs": [
    {
     "data": {
      "text/plain": [
       "'technojam'"
      ]
     },
     "execution_count": 22,
     "metadata": {},
     "output_type": "execute_result"
    }
   ],
   "source": [
    "dict.get('Name')\n",
    "\"\"\"For key key, returns value or default if key not in dictionary\n",
    "\"\"\""
   ]
  },
  {
   "cell_type": "code",
   "execution_count": 28,
   "metadata": {},
   "outputs": [
    {
     "data": {
      "text/plain": [
       "dict_items([('Name', 'technojam'), ('Age', 7)])"
      ]
     },
     "execution_count": 28,
     "metadata": {},
     "output_type": "execute_result"
    }
   ],
   "source": [
    "dict.items()\n",
    "\"\"\"Returns a list of dict's (key, value) tuple pairs\n",
    "\"\"\""
   ]
  },
  {
   "cell_type": "code",
   "execution_count": 29,
   "metadata": {},
   "outputs": [
    {
     "data": {
      "text/plain": [
       "dict_keys(['Name', 'Age'])"
      ]
     },
     "execution_count": 29,
     "metadata": {},
     "output_type": "execute_result"
    }
   ],
   "source": [
    "dict.keys()\n",
    "\"\"\"Returns list of dictionary dict's keys\"\"\""
   ]
  },
  {
   "cell_type": "code",
   "execution_count": 33,
   "metadata": {},
   "outputs": [
    {
     "name": "stdout",
     "output_type": "stream",
     "text": [
      "{'Name': 'technojam', 'Age': 7, 'college': 'galgotias University'}\n"
     ]
    }
   ],
   "source": [
    "dict2={'college':'galgotias University'}\n",
    "print(dict)\n",
    "dict.update(dict2)\n",
    "\"\"\"Adds dictionary dict2's key-values pairs to dict\"\"\""
   ]
  },
  {
   "cell_type": "code",
   "execution_count": 34,
   "metadata": {},
   "outputs": [
    {
     "data": {
      "text/plain": [
       "dict_values(['technojam', 7, 'galgotias University'])"
      ]
     },
     "execution_count": 34,
     "metadata": {},
     "output_type": "execute_result"
    }
   ],
   "source": [
    "dict.values()\n",
    "\"\"\"Returns list of dictionary dict's values\"\"\""
   ]
  },
  {
   "cell_type": "markdown",
   "metadata": {},
   "source": [
    "## dictionary into list"
   ]
  },
  {
   "cell_type": "code",
   "execution_count": 43,
   "metadata": {},
   "outputs": [
    {
     "name": "stdout",
     "output_type": "stream",
     "text": [
      "{'a': 1, 'b': 2}\n",
      "[1, 2]\n",
      "['a', 'b']\n",
      "['a', 'b']\n"
     ]
    }
   ],
   "source": [
    "x = {'a':1, 'b':2}\n",
    "print(x)\n",
    "y = list(x.values())\n",
    "print(y)\n",
    "z=list(x.keys())\n",
    "print(z)\n",
    "u=list(x)\n",
    "print(u)"
   ]
  },
  {
   "cell_type": "markdown",
   "metadata": {},
   "source": [
    "## LIST OF TUPLES INTO DICTIONARY"
   ]
  },
  {
   "cell_type": "code",
   "execution_count": 3,
   "metadata": {},
   "outputs": [
    {
     "name": "stdout",
     "output_type": "stream",
     "text": [
      "{'technojam': 1, 'from': 2, 'galgotias university': 3}\n"
     ]
    }
   ],
   "source": [
    "d={}\n",
    "ListOfTuples=[(\"technojam\",1),(\"from\",2),(\"galgotias university\",3)]\n",
    "d=dict(ListOfTuples)\n",
    "print(d)"
   ]
  },
  {
   "cell_type": "markdown",
   "metadata": {},
   "source": [
    "## LIST INTO DICTIONARY"
   ]
  },
  {
   "cell_type": "code",
   "execution_count": 5,
   "metadata": {},
   "outputs": [
    {
     "name": "stdout",
     "output_type": "stream",
     "text": [
      "{'technojam': 1, 'from': 2, 'galgotias university': 3}\n"
     ]
    }
   ],
   "source": [
    "d={}\n",
    "list1=[\"technojam\",\"from\",\"galgotias university\"]\n",
    "list2=[1,2,3]\n",
    "zip1=zip(list1,list2)\n",
    "d=dict(zip1)\n",
    "print(d)"
   ]
  },
  {
   "cell_type": "markdown",
   "metadata": {},
   "source": [
    "## LIST(buil in functions)"
   ]
  },
  {
   "cell_type": "raw",
   "metadata": {},
   "source": [
    "Python Expression   \tResults               \tDescription\n",
    "len([1, 2, 3])  \t3                          \tLength\n",
    "[1,2,3] + [4,5,6]\t[1, 2, 3, 4, 5, 6]        \tConcatenation\n",
    "['Hi!'] * 4     \t['Hi!','Hi!','Hi!','Hi!'] \tRepetition\n",
    "3 in [1,2,3]    \tTrue\tMembership\n"
   ]
  },
  {
   "cell_type": "code",
   "execution_count": 7,
   "metadata": {},
   "outputs": [
    {
     "name": "stdout",
     "output_type": "stream",
     "text": [
      "Galgotia university\n",
      "from\n",
      "['from', 'Galgotia university']\n"
     ]
    }
   ],
   "source": [
    "L = ['technojam', 'from', 'Galgotia university']\n",
    "print(L[2])   #Offsets start at zero\n",
    "print(L[-2])  #Negative: count from the right\n",
    "print(L[1:])  #Slicing fetches sections\n"
   ]
  },
  {
   "cell_type": "code",
   "execution_count": 14,
   "metadata": {},
   "outputs": [
    {
     "name": "stdout",
     "output_type": "stream",
     "text": [
      "[1, 2, 3, 4]\n",
      "[1, 2, 3, 4]\n",
      "[1, 2, 3, 4, 56]\n",
      "[1, 2, 3, 4, 56]\n",
      "[1, 2, 4, 3, 4, 56]\n",
      "[1, 4, 3, 4, 56]\n",
      "[1, 3, 4, 56]\n",
      "[56, 4, 3, 1]\n",
      "[1, 3, 4, 56]\n"
     ]
    }
   ],
   "source": [
    "list=[1,2,3]\n",
    "list2=[56]\n",
    "obj=4\n",
    "index= 2\n",
    "list.append(obj)\n",
    "# Appends object obj to list\n",
    "print(list)\n",
    "\n",
    "list.count(obj)\n",
    "#Returns count of how many times obj occurs in list\n",
    "print(list)\n",
    "\n",
    "list.extend(list2)\n",
    "#Appends the contents of seq to list\n",
    "print(list)\n",
    "\n",
    "list.index(obj)\n",
    "#Returns the lowest index in list that obj appears\n",
    "print(list)\n",
    "\n",
    "list.insert(index, obj)\n",
    "#Inserts object obj into list at offset index\n",
    "print(list)\n",
    "\n",
    "list.pop(1)\n",
    "#Removes and returns last object or obj from list\n",
    "print(list)\n",
    "\n",
    "list.remove(obj)\n",
    "#Removes object obj from list\n",
    "print(list)\n",
    "\n",
    "list.reverse()\n",
    "#Reverses objects of list in place\n",
    "print(list)\n",
    "\n",
    "list.sort()\n",
    "#Sorts objects of list, use compare func if given\n",
    "print(list)\n"
   ]
  },
  {
   "cell_type": "code",
   "execution_count": null,
   "metadata": {},
   "outputs": [],
   "source": []
  }
 ],
 "metadata": {
  "kernelspec": {
   "display_name": "Python 3",
   "language": "python",
   "name": "python3"
  },
  "language_info": {
   "codemirror_mode": {
    "name": "ipython",
    "version": 3
   },
   "file_extension": ".py",
   "mimetype": "text/x-python",
   "name": "python",
   "nbconvert_exporter": "python",
   "pygments_lexer": "ipython3",
   "version": "3.6.4"
  }
 },
 "nbformat": 4,
 "nbformat_minor": 2
}
